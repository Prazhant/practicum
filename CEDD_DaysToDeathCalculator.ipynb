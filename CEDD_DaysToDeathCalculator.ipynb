{
 "cells": [
  {
   "cell_type": "code",
   "execution_count": 1,
   "metadata": {},
   "outputs": [],
   "source": [
    "import pandas as pd\n",
    "from pathlib import Path  \n",
    "import sys\n",
    "import sqlite3"
   ]
  },
  {
   "cell_type": "code",
   "execution_count": 23,
   "metadata": {},
   "outputs": [],
   "source": [
    "data_filtered=pd.read_csv(\"data_filtered.csv\")\n",
    "\n",
    "\n",
    "data_filtered['M0906_DC_TRAN_DTH_DT'] = pd.to_datetime(data_filtered['M0906_DC_TRAN_DTH_DT'], infer_datetime_format=True)\n",
    "data_filtered['cedd_dateofdeath'] = pd.to_datetime(data_filtered['cedd_dateofdeath'], infer_datetime_format=True)\n",
    "data_filtered['epi_SocDate'] = pd.to_datetime(data_filtered['epi_SocDate'], infer_datetime_format=True)\n",
    "data_filtered[[\"DaysToDeath\"]] = data_filtered[[\"DaysToDeath\"]].apply(pd.to_numeric)\n",
    "\n",
    "\n",
    "data_max_dc_date=data_filtered[(data_filtered['dcr_desc']=='PATIENT EXPIRED') & (data_filtered['DaysToDeath'].isnull())].groupby(by=['pa_id'])[['M0906_DC_TRAN_DTH_DT']].max()\n",
    "data_max_dc_date=data_max_dc_date.add_suffix('_Date').reset_index()\n",
    "def populate_date_of_death(x):\n",
    "    if((x['dcr_desc']=='PATIENT EXPIRED') & (pd.isnull(x['cedd_dateofdeath']))):\n",
    "        return data_max_dc_date[data_max_dc_date['pa_id']==x['pa_id']]['M0906_DC_TRAN_DTH_DT_Date'].values[0]\n",
    "    return x['cedd_dateofdeath']\n",
    "    \n",
    "\n",
    "data_filtered['cedd_dateofdeath']=data_filtered.apply(populate_date_of_death, axis=1)\n",
    "data_filtered['DaysToDeath'] = (data_filtered['cedd_dateofdeath'] - data_filtered['epi_SocDate']).dt.days\n",
    "\n",
    "filepath = Path('data_filtered_with_cedd.csv')  \n",
    "filepath.parent.mkdir(parents=True, exist_ok=True)  \n",
    "data_filtered.to_csv(filepath)  \n",
    "\n"
   ]
  },
  {
   "cell_type": "code",
   "execution_count": 25,
   "metadata": {},
   "outputs": [],
   "source": [
    "def getColumnDtypes(dataTypes):\n",
    "    dataList = []\n",
    "    for x in dataTypes:\n",
    "        if(x == 'int64'):\n",
    "            dataList.append('int')\n",
    "        elif (x == 'float64'):\n",
    "            dataList.append('float')\n",
    "        elif (x == 'bool'):\n",
    "            dataList.append('boolean')\n",
    "        else:\n",
    "            dataList.append('varchar')\n",
    "    return dataList\n",
    "data_filtered = data_filtered.drop('Unnamed: 0', 1)\n",
    "# display(data_filtered)\n",
    "columnName = list(data_filtered.columns.values)\n",
    "# display(columnName[-1:])\n",
    "columnDataType = getColumnDtypes(data_filtered.dtypes)\n",
    "clearTable='DROP TABLE IF EXISTS data_updated;'\n",
    "createTableStatement = 'CREATE TABLE IF NOT EXISTS data_updated ('\n",
    "for i in range(len(columnDataType)):\n",
    "    createTableStatement = createTableStatement + '\\n' + columnName[i] + ' ' + columnDataType[i] + ','\n",
    "createTableStatement = createTableStatement[:-1] + ' );'\n",
    "Path('compassus_data_updated.db').touch()\n",
    "conn = sqlite3.connect('compassus_data_updated.db')\n",
    "c = conn.cursor()\n",
    "# display(createTableStatement)\n",
    "c.execute(clearTable)\n",
    "c.execute(createTableStatement)\n",
    "\n",
    "data_filtered.to_sql('data_updated', conn, if_exists='append', index = False)"
   ]
  },
  {
   "cell_type": "code",
   "execution_count": null,
   "metadata": {},
   "outputs": [],
   "source": []
  }
 ],
 "metadata": {
  "kernelspec": {
   "display_name": "Python 3",
   "language": "python",
   "name": "python3"
  },
  "language_info": {
   "codemirror_mode": {
    "name": "ipython",
    "version": 3
   },
   "file_extension": ".py",
   "mimetype": "text/x-python",
   "name": "python",
   "nbconvert_exporter": "python",
   "pygments_lexer": "ipython3",
   "version": "3.8.5"
  }
 },
 "nbformat": 4,
 "nbformat_minor": 4
}
