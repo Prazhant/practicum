{
 "cells": [
  {
   "cell_type": "code",
   "execution_count": 56,
   "metadata": {},
   "outputs": [],
   "source": [
    "import pandas as pd\n",
    "import numpy as np\n",
    "from sklearn import preprocessing\n",
    "import matplotlib.pyplot as plt \n",
    "plt.rc(\"font\", size=14)\n",
    "from sklearn.linear_model import LogisticRegression\n",
    "from sklearn import metrics\n",
    "from sklearn.model_selection import train_test_split\n",
    "import seaborn as sns\n",
    "sns.set(style=\"white\")\n",
    "sns.set(style=\"whitegrid\", color_codes=True)\n",
    "from collections import Counter"
   ]
  },
  {
   "cell_type": "code",
   "execution_count": 47,
   "metadata": {},
   "outputs": [
    {
     "name": "stdout",
     "output_type": "stream",
     "text": [
      "(27817, 106)\n",
      "['Unnamed: 0', 'year_born', 'pa_race', 'pa_gender', 'pa_maritalstatus', 'epi_AdmitType', 'epi_weight', 'ceo_HHRG', 'DiagnosisCategory', 'RoughAge', 'M0100_ASSMT_REASON', 'M0110_EPISODE_TIMING', 'M0140_ETHNIC_WHITE', 'M0906_DC_TRAN_DTH_DT', 'M1000_DC_IPPS_14_DA', 'M1000_DC_NONE_14_DA', 'M1028_ACTV_DIAG_DM', 'M1028_ACTV_DIAG_NOA', 'M1028_ACTV_DIAG_PVD_PAD', 'M1030_THH_ENT_NUTRITION', 'M1030_THH_IV_INFUSION', 'M1030_THH_NONE_ABOVE', 'M1030_THH_PAR_NUTRITION', 'M1033_HOSP_RISK_5PLUS_MDCTN', 'M1033_HOSP_RISK_COMPLIANCE', 'M1033_HOSP_RISK_CRNT_EXHSTN', 'M1033_HOSP_RISK_MLTPL_ED_VISIT', 'M1033_HOSP_RISK_MLTPL_HOSPZTN', 'M1033_HOSP_RISK_MNTL_BHV_DCLN', 'M1033_HOSP_RISK_NONE_ABOVE', 'M1033_HOSP_RISK_OTHR_RISK', 'M1033_HOSP_RISK_WEIGHT_LOSS', 'M1051_PVX_RCVD_AGNCY', 'M1056_PVX_RSN_NOT_RCVD_AGNCY', 'M1060_HEIGHT_A', 'M1200_VISION', 'M1242_PAIN_FREQ_ACTVTY_MVMT', 'M1306_UNHLD_STG2_PRSR_ULCR', 'M1307_OLDST_STG2_AT_DSCHRG', 'M1307_OLDST_STG2_ONST_DT', 'M1311_NBR_PRSULC_STG4_C1', 'M1311_NBR_ULC_SOCROC_STG2_A2', 'M1311_NBR_ULC_SOCROC_STG3_B2', 'M1311_NBR_ULC_SOCROC_STG4_C2', 'M1311_NSTG_CVRG_SOCROC_E2', 'M1311_NSTG_DEEP_TSUE_F1', 'M1311_NSTG_DEEP_TSUE_SOCROC_F2', 'M1311_NSTG_DRSG_D1', 'M1311_NSTG_DRSG_SOCROC_D2', 'M1324_STG_PRBLM_ULCER', 'M1332_NBR_STAS_ULCR', 'M1334_STUS_PRBLM_STAS_ULCR', 'M1342_STUS_PRBLM_SRGCL_WND', 'M1400_WHEN_DYSPNEIC', 'M1600_UTI', 'M1610_UR_INCONT', 'M1620_BWL_INCONT', 'M1700_COG_FUNCTION', 'M1710_WHEN_CONFUSED', 'M1730_PHQ2_DPRSN', 'M1730_PHQ2_LACK_INTRST', 'M1730_STDZ_DPRSN_SCRNG', 'M1740_BD_DELUSIONS', 'M1740_BD_IMP_DECISN', 'M1740_BD_MEM_DEFICIT', 'M1740_BD_NONE', 'M1740_BD_PHYSICAL', 'M1740_BD_SOC_INAPPRO', 'M1740_BD_VERBAL', 'M1745_BEH_PROB_FREQ', 'M1800_CRNT_GROOMING', 'M1810_CRNT_DRESS_UPPER', 'M1820_CRNT_DRESS_LOWER', 'M1830_CRNT_BATHG', 'M1840_CRNT_TOILTG', 'M1845_CRNT_TOILTG_HYGN', 'M1850_CRNT_TRNSFRNG', 'M1860_CRNT_AMBLTN', 'M1870_CRNT_FEEDING', 'M1910_MLT_FCTR_FALL_RISK_ASMT', 'M2001_DRUG_RGMN_RVW', 'M2003_MDCTN_FLWP', 'M2005_MDCTN_INTRVTN', 'M2010_HIGH_RISK_DRUG_EDCTN', 'M2016_DRUG_EDCTN_INTRVTN', 'M2020_CRNT_MGMT_ORAL_MDCTN', 'M2030_CRNT_MGMT_INJCTN_MDCTN', 'M2102_CARE_TYPE_SRC_ADL', 'M2102_CARE_TYPE_SRC_MDCTN', 'M2102_CARE_TYPE_SRC_PRCDR', 'M2102_CARE_TYPE_SRC_SPRVSN', 'M2200_THER_NEED_NA', 'M2301_EMER_USE_AFTR_LAST_ASMT', 'M2310_ECR_HYPOGLYC', 'M2310_ECR_MEDICATION', 'M2310_ECR_OTHER', 'M2310_ECR_UNKNOWN', 'M2401_INTRVTN_SMRY_DBTS_FT', 'M2401_INTRVTN_SMRY_DPRSN', 'M2401_INTRVTN_SMRY_FALL_PRVNT', 'M2401_INTRVTN_SMRY_PAIN_MNTR', 'M2401_INTRVTN_SMRY_PRSULC_PRVN', 'M2401_INTRVTN_SMRY_PRSULC_WET', 'M2410_INPAT_FACILITY', 'M2420_DSCHRG_DISP', 'patient_deceased']\n"
     ]
    },
    {
     "name": "stderr",
     "output_type": "stream",
     "text": [
      "/opt/anaconda3/lib/python3.8/site-packages/IPython/core/interactiveshell.py:3146: DtypeWarning: Columns (9) have mixed types.Specify dtype option on import or set low_memory=False.\n",
      "  has_raised = await self.run_ast_nodes(code_ast.body, cell_name,\n"
     ]
    }
   ],
   "source": [
    "df=pd.read_csv(\"chosen.csv\")\n",
    "print(df.shape)\n",
    "print(list(df.columns))"
   ]
  },
  {
   "cell_type": "code",
   "execution_count": 48,
   "metadata": {},
   "outputs": [],
   "source": [
    "df = df.drop(columns=['Unnamed: 0'])"
   ]
  },
  {
   "cell_type": "code",
   "execution_count": 58,
   "metadata": {},
   "outputs": [
    {
     "data": {
      "text/html": [
       "<div>\n",
       "<style scoped>\n",
       "    .dataframe tbody tr th:only-of-type {\n",
       "        vertical-align: middle;\n",
       "    }\n",
       "\n",
       "    .dataframe tbody tr th {\n",
       "        vertical-align: top;\n",
       "    }\n",
       "\n",
       "    .dataframe thead th {\n",
       "        text-align: right;\n",
       "    }\n",
       "</style>\n",
       "<table border=\"1\" class=\"dataframe\">\n",
       "  <thead>\n",
       "    <tr style=\"text-align: right;\">\n",
       "      <th></th>\n",
       "      <th>epi_weight</th>\n",
       "      <th>RoughAge</th>\n",
       "    </tr>\n",
       "  </thead>\n",
       "  <tbody>\n",
       "    <tr>\n",
       "      <th>0</th>\n",
       "      <td>178.0</td>\n",
       "      <td>79.0</td>\n",
       "    </tr>\n",
       "    <tr>\n",
       "      <th>1</th>\n",
       "      <td>178.0</td>\n",
       "      <td>79.0</td>\n",
       "    </tr>\n",
       "    <tr>\n",
       "      <th>2</th>\n",
       "      <td>178.0</td>\n",
       "      <td>79.0</td>\n",
       "    </tr>\n",
       "    <tr>\n",
       "      <th>3</th>\n",
       "      <td>178.0</td>\n",
       "      <td>79.0</td>\n",
       "    </tr>\n",
       "    <tr>\n",
       "      <th>4</th>\n",
       "      <td>178.0</td>\n",
       "      <td>79.0</td>\n",
       "    </tr>\n",
       "    <tr>\n",
       "      <th>...</th>\n",
       "      <td>...</td>\n",
       "      <td>...</td>\n",
       "    </tr>\n",
       "    <tr>\n",
       "      <th>27812</th>\n",
       "      <td>178.0</td>\n",
       "      <td>82.0</td>\n",
       "    </tr>\n",
       "    <tr>\n",
       "      <th>27813</th>\n",
       "      <td>178.0</td>\n",
       "      <td>82.0</td>\n",
       "    </tr>\n",
       "    <tr>\n",
       "      <th>27814</th>\n",
       "      <td>178.0</td>\n",
       "      <td>82.0</td>\n",
       "    </tr>\n",
       "    <tr>\n",
       "      <th>27815</th>\n",
       "      <td>178.0</td>\n",
       "      <td>82.0</td>\n",
       "    </tr>\n",
       "    <tr>\n",
       "      <th>27816</th>\n",
       "      <td>178.0</td>\n",
       "      <td>82.0</td>\n",
       "    </tr>\n",
       "  </tbody>\n",
       "</table>\n",
       "<p>27817 rows × 2 columns</p>\n",
       "</div>"
      ],
      "text/plain": [
       "       epi_weight  RoughAge\n",
       "0           178.0      79.0\n",
       "1           178.0      79.0\n",
       "2           178.0      79.0\n",
       "3           178.0      79.0\n",
       "4           178.0      79.0\n",
       "...           ...       ...\n",
       "27812       178.0      82.0\n",
       "27813       178.0      82.0\n",
       "27814       178.0      82.0\n",
       "27815       178.0      82.0\n",
       "27816       178.0      82.0\n",
       "\n",
       "[27817 rows x 2 columns]"
      ]
     },
     "execution_count": 58,
     "metadata": {},
     "output_type": "execute_result"
    }
   ],
   "source": [
    "for col in df:\n",
    "    no_of_unique_values=df[col].nunique()\n",
    "    if( not col.startswith( 'Unnamed' ) and no_of_unique_values<40):        \n",
    "        df[col]=pd.Categorical(df[col])\n",
    "df['M0906_DC_TRAN_DTH_DT'] = pd.to_datetime(df['M0906_DC_TRAN_DTH_DT'])\n",
    "\n",
    "df[\"epi_weight\"] = pd.to_numeric(df[\"epi_weight\"],errors=\"coerce\")\n",
    "df[\"RoughAge\"] = pd.to_numeric(df[\"RoughAge\"],errors=\"coerce\")\n",
    "\n",
    "df['epi_weight'].fillna(int(df['epi_weight'].mean()), inplace=True)\n",
    "df['RoughAge'].fillna(int(df['RoughAge'].mean()), inplace=True)\n",
    "\n",
    "df[\"ceo_HHRG\"] = df[\"ceo_HHRG\"].astype(\"category\")\n",
    "\n",
    "# Printing the number of columns by data type\n",
    "datatype_list=[]\n",
    "for col in df:\n",
    "    datatype_list.append(df[col].dtype.name)\n",
    "typesCounter = Counter(datatype_list);\n",
    "typesCounter\n",
    "\n",
    "df[[\"epi_weight\",\"RoughAge\"]]\n",
    "\n"
   ]
  },
  {
   "cell_type": "code",
   "execution_count": 55,
   "metadata": {},
   "outputs": [
    {
     "data": {
      "image/png": "[encoded data removed]",
      "text/plain": [
       "<Figure size 432x288 with 1 Axes>"
      ]
     },
     "metadata": {},
     "output_type": "display_data"
    },
    {
     "data": {
      "text/plain": [
       "<Figure size 432x288 with 0 Axes>"
      ]
     },
     "metadata": {},
     "output_type": "display_data"
    }
   ],
   "source": [
    "df[\"patient_deceased\"].value_counts()\n",
    "sns.countplot(x=\"patient_deceased\", data=df)\n",
    "plt.show()\n",
    "from sklearn.preprocessing import OrdinalEncoder\n",
    "enc = OrdinalEncoder()\n",
    "enc.fit(df)\n",
    "enc.categories_plt.savefig(\"Response_variable_counts\")"
   ]
  },
  {
   "cell_type": "code",
   "execution_count": 59,
   "metadata": {},
   "outputs": [
    {
     "name": "stderr",
     "output_type": "stream",
     "text": [
      "/opt/anaconda3/lib/python3.8/site-packages/sklearn/linear_model/_logistic.py:762: ConvergenceWarning: lbfgs failed to converge (status=1):\n",
      "STOP: TOTAL NO. of ITERATIONS REACHED LIMIT.\n",
      "\n",
      "Increase the number of iterations (max_iter) or scale the data as shown in:\n",
      "    https://scikit-learn.org/stable/modules/preprocessing.html\n",
      "Please also refer to the documentation for alternative solver options:\n",
      "    https://scikit-learn.org/stable/modules/linear_model.html#logistic-regression\n",
      "  n_iter_i = _check_optimize_result(\n"
     ]
    },
    {
     "data": {
      "text/plain": [
       "LogisticRegression()"
      ]
     },
     "execution_count": 59,
     "metadata": {},
     "output_type": "execute_result"
    }
   ],
   "source": [
    "from sklearn.preprocessing import OrdinalEncoder\n",
    "enc = OrdinalEncoder()\n",
    "enc.fit(df)\n",
    "enc.categories_\n",
    "\n",
    "xdf = enc.transform(df) # transform using encoder\n",
    "\n",
    "df2 = pd.DataFrame(xdf, columns=df.columns) # numpy to dataframe\n",
    "\n",
    "X=df2[df.columns[~df.columns.isin(['patient_deceased'])]]\n",
    "y=df2[\"patient_deceased\"]\n",
    "X_train, X_test, y_train, y_test = train_test_split(X, y, test_size=0.3, random_state=0)\n",
    "logreg = LogisticRegression()\n",
    "logreg.fit(X_train, y_train)"
   ]
  },
  {
   "cell_type": "code",
   "execution_count": 60,
   "metadata": {},
   "outputs": [
    {
     "name": "stdout",
     "output_type": "stream",
     "text": [
      "Accuracy of logistic regression classifier on test set: 0.85\n"
     ]
    }
   ],
   "source": [
    "y_pred = logreg.predict(X_test)\n",
    "print('Accuracy of logistic regression classifier on test set: {:.2f}'.format(logreg.score(X_test, y_test)))"
   ]
  },
  {
   "cell_type": "code",
   "execution_count": 61,
   "metadata": {},
   "outputs": [
    {
     "name": "stdout",
     "output_type": "stream",
     "text": [
      "[[4221  467]\n",
      " [ 777 2881]]\n"
     ]
    }
   ],
   "source": [
    "from sklearn.metrics import confusion_matrix\n",
    "confusion_matrix = confusion_matrix(y_test, y_pred)\n",
    "print(confusion_matrix)"
   ]
  },
  {
   "cell_type": "code",
   "execution_count": 62,
   "metadata": {},
   "outputs": [
    {
     "name": "stdout",
     "output_type": "stream",
     "text": [
      "              precision    recall  f1-score   support\n",
      "\n",
      "         0.0       0.84      0.90      0.87      4688\n",
      "         1.0       0.86      0.79      0.82      3658\n",
      "\n",
      "    accuracy                           0.85      8346\n",
      "   macro avg       0.85      0.84      0.85      8346\n",
      "weighted avg       0.85      0.85      0.85      8346\n",
      "\n"
     ]
    }
   ],
   "source": [
    "from sklearn.metrics import classification_report\n",
    "print(classification_report(y_test, y_pred))"
   ]
  },
  {
   "cell_type": "code",
   "execution_count": 63,
   "metadata": {},
   "outputs": [
    {
     "data": {
      "image/png": "[encoded data removed]",
      "text/plain": [
       "<Figure size 432x288 with 1 Axes>"
      ]
     },
     "metadata": {},
     "output_type": "display_data"
    }
   ],
   "source": [
    "from sklearn.metrics import roc_auc_score\n",
    "from sklearn.metrics import roc_curve\n",
    "logit_roc_auc = roc_auc_score(y_test, logreg.predict(X_test))\n",
    "fpr, tpr, thresholds = roc_curve(y_test, logreg.predict_proba(X_test)[:,1])\n",
    "plt.figure()\n",
    "plt.plot(fpr, tpr, label='Logistic Regression (area = %0.2f)' % logit_roc_auc)\n",
    "plt.plot([0, 1], [0, 1],'r--')\n",
    "plt.xlim([0.0, 1.0])\n",
    "plt.ylim([0.0, 1.05])\n",
    "plt.xlabel('False Positive Rate')\n",
    "plt.ylabel('True Positive Rate')\n",
    "plt.title('Receiver operating characteristic')\n",
    "plt.legend(loc=\"lower right\")\n",
    "plt.savefig('Log_ROC')\n",
    "plt.show()"
   ]
  }
 ],
 "metadata": {
  "kernelspec": {
   "display_name": "Python 3",
   "language": "python",
   "name": "python3"
  },
  "language_info": {
   "codemirror_mode": {
    "name": "ipython",
    "version": 3
   },
   "file_extension": ".py",
   "mimetype": "text/x-python",
   "name": "python",
   "nbconvert_exporter": "python",
   "pygments_lexer": "ipython3",
   "version": "3.8.5"
  }
 },
 "nbformat": 4,
 "nbformat_minor": 4
}
