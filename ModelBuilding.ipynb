{
 "cells": [
  {
   "cell_type": "code",
   "execution_count": 37,
   "metadata": {},
   "outputs": [],
   "source": [
    "import pandas as pd\n",
    "import numpy as np\n",
    "from sklearn import preprocessing\n",
    "import matplotlib.pyplot as plt \n",
    "plt.rc(\"font\", size=14)\n",
    "from sklearn.linear_model import LogisticRegression\n",
    "from sklearn import metrics\n",
    "from sklearn.model_selection import train_test_split\n",
    "import seaborn as sns\n",
    "sns.set(style=\"white\")\n",
    "sns.set(style=\"whitegrid\", color_codes=True)\n",
    "from collections import Counter"
   ]
  },
  {
   "cell_type": "markdown",
   "metadata": {},
   "source": [
    "**Importing the data after feature selection Exercise**"
   ]
  },
  {
   "cell_type": "code",
   "execution_count": 38,
   "metadata": {},
   "outputs": [
    {
     "name": "stdout",
     "output_type": "stream",
     "text": [
      "(27817, 106)\n",
      "['Unnamed: 0', 'year_born', 'pa_race', 'pa_gender', 'pa_maritalstatus', 'epi_AdmitType', 'epi_weight', 'ceo_HHRG', 'DiagnosisCategory', 'RoughAge', 'M0100_ASSMT_REASON', 'M0110_EPISODE_TIMING', 'M0140_ETHNIC_WHITE', 'M0906_DC_TRAN_DTH_DT', 'M1000_DC_IPPS_14_DA', 'M1000_DC_NONE_14_DA', 'M1028_ACTV_DIAG_DM', 'M1028_ACTV_DIAG_NOA', 'M1028_ACTV_DIAG_PVD_PAD', 'M1030_THH_ENT_NUTRITION', 'M1030_THH_IV_INFUSION', 'M1030_THH_NONE_ABOVE', 'M1030_THH_PAR_NUTRITION', 'M1033_HOSP_RISK_5PLUS_MDCTN', 'M1033_HOSP_RISK_COMPLIANCE', 'M1033_HOSP_RISK_CRNT_EXHSTN', 'M1033_HOSP_RISK_MLTPL_ED_VISIT', 'M1033_HOSP_RISK_MLTPL_HOSPZTN', 'M1033_HOSP_RISK_MNTL_BHV_DCLN', 'M1033_HOSP_RISK_NONE_ABOVE', 'M1033_HOSP_RISK_OTHR_RISK', 'M1033_HOSP_RISK_WEIGHT_LOSS', 'M1051_PVX_RCVD_AGNCY', 'M1056_PVX_RSN_NOT_RCVD_AGNCY', 'M1060_HEIGHT_A', 'M1200_VISION', 'M1242_PAIN_FREQ_ACTVTY_MVMT', 'M1306_UNHLD_STG2_PRSR_ULCR', 'M1307_OLDST_STG2_AT_DSCHRG', 'M1307_OLDST_STG2_ONST_DT', 'M1311_NBR_PRSULC_STG4_C1', 'M1311_NBR_ULC_SOCROC_STG2_A2', 'M1311_NBR_ULC_SOCROC_STG3_B2', 'M1311_NBR_ULC_SOCROC_STG4_C2', 'M1311_NSTG_CVRG_SOCROC_E2', 'M1311_NSTG_DEEP_TSUE_F1', 'M1311_NSTG_DEEP_TSUE_SOCROC_F2', 'M1311_NSTG_DRSG_D1', 'M1311_NSTG_DRSG_SOCROC_D2', 'M1324_STG_PRBLM_ULCER', 'M1332_NBR_STAS_ULCR', 'M1334_STUS_PRBLM_STAS_ULCR', 'M1342_STUS_PRBLM_SRGCL_WND', 'M1400_WHEN_DYSPNEIC', 'M1600_UTI', 'M1610_UR_INCONT', 'M1620_BWL_INCONT', 'M1700_COG_FUNCTION', 'M1710_WHEN_CONFUSED', 'M1730_PHQ2_DPRSN', 'M1730_PHQ2_LACK_INTRST', 'M1730_STDZ_DPRSN_SCRNG', 'M1740_BD_DELUSIONS', 'M1740_BD_IMP_DECISN', 'M1740_BD_MEM_DEFICIT', 'M1740_BD_NONE', 'M1740_BD_PHYSICAL', 'M1740_BD_SOC_INAPPRO', 'M1740_BD_VERBAL', 'M1745_BEH_PROB_FREQ', 'M1800_CRNT_GROOMING', 'M1810_CRNT_DRESS_UPPER', 'M1820_CRNT_DRESS_LOWER', 'M1830_CRNT_BATHG', 'M1840_CRNT_TOILTG', 'M1845_CRNT_TOILTG_HYGN', 'M1850_CRNT_TRNSFRNG', 'M1860_CRNT_AMBLTN', 'M1870_CRNT_FEEDING', 'M1910_MLT_FCTR_FALL_RISK_ASMT', 'M2001_DRUG_RGMN_RVW', 'M2003_MDCTN_FLWP', 'M2005_MDCTN_INTRVTN', 'M2010_HIGH_RISK_DRUG_EDCTN', 'M2016_DRUG_EDCTN_INTRVTN', 'M2020_CRNT_MGMT_ORAL_MDCTN', 'M2030_CRNT_MGMT_INJCTN_MDCTN', 'M2102_CARE_TYPE_SRC_ADL', 'M2102_CARE_TYPE_SRC_MDCTN', 'M2102_CARE_TYPE_SRC_PRCDR', 'M2102_CARE_TYPE_SRC_SPRVSN', 'M2200_THER_NEED_NA', 'M2301_EMER_USE_AFTR_LAST_ASMT', 'M2310_ECR_HYPOGLYC', 'M2310_ECR_MEDICATION', 'M2310_ECR_OTHER', 'M2310_ECR_UNKNOWN', 'M2401_INTRVTN_SMRY_DBTS_FT', 'M2401_INTRVTN_SMRY_DPRSN', 'M2401_INTRVTN_SMRY_FALL_PRVNT', 'M2401_INTRVTN_SMRY_PAIN_MNTR', 'M2401_INTRVTN_SMRY_PRSULC_PRVN', 'M2401_INTRVTN_SMRY_PRSULC_WET', 'M2410_INPAT_FACILITY', 'M2420_DSCHRG_DISP', 'patient_deceased']\n"
     ]
    },
    {
     "name": "stderr",
     "output_type": "stream",
     "text": [
      "/opt/anaconda3/lib/python3.8/site-packages/IPython/core/interactiveshell.py:3146: DtypeWarning: Columns (9) have mixed types.Specify dtype option on import or set low_memory=False.\n",
      "  has_raised = await self.run_ast_nodes(code_ast.body, cell_name,\n"
     ]
    }
   ],
   "source": [
    "df=pd.read_csv(\"chosen.csv\")\n",
    "print(df.shape)\n",
    "print(list(df.columns))"
   ]
  },
  {
   "cell_type": "markdown",
   "metadata": {},
   "source": [
    "**Data Prep:** \n",
    "- Dropping unnamed columns and converting numeric columns from category to numerical. Also, imputing the mean value for the numeric columns."
   ]
  },
  {
   "cell_type": "code",
   "execution_count": 39,
   "metadata": {},
   "outputs": [],
   "source": [
    "df = df.drop(columns=['Unnamed: 0'])"
   ]
  },
  {
   "cell_type": "code",
   "execution_count": 57,
   "metadata": {},
   "outputs": [
    {
     "name": "stdout",
     "output_type": "stream",
     "text": [
      "Counter({'category': 101, 'float64': 2, 'int64': 1, 'datetime64[ns]': 1})\n"
     ]
    }
   ],
   "source": [
    "for col in df:\n",
    "    no_of_unique_values=df[col].nunique()\n",
    "    if( not col.startswith( 'Unnamed' ) and no_of_unique_values<40):        \n",
    "        df[col]=pd.Categorical(df[col])\n",
    "df['M0906_DC_TRAN_DTH_DT'] = pd.to_datetime(df['M0906_DC_TRAN_DTH_DT'])\n",
    "\n",
    "df[\"epi_weight\"] = pd.to_numeric(df[\"epi_weight\"],errors=\"coerce\")\n",
    "df[\"RoughAge\"] = pd.to_numeric(df[\"RoughAge\"],errors=\"coerce\")\n",
    "\n",
    "df['epi_weight'].fillna(int(df['epi_weight'].mean()), inplace=True)\n",
    "df['RoughAge'].fillna(int(df['RoughAge'].mean()), inplace=True)\n",
    "\n",
    "df[\"ceo_HHRG\"] = df[\"ceo_HHRG\"].astype(\"category\")\n",
    "\n",
    "# Printing the number of columns by data type\n",
    "datatype_list=[]\n",
    "for col in df:\n",
    "    datatype_list.append(df[col].dtype.name)\n",
    "typesCounter = Counter(datatype_list);\n",
    "print(typesCounter)\n",
    "\n",
    "\n",
    "df[[\"epi_weight\",\"RoughAge\"]]\n",
    "\n",
    "df.to_csv('chosen_preprocessed.csv')\n",
    "\n"
   ]
  },
  {
   "cell_type": "markdown",
   "metadata": {},
   "source": [
    "**Response variable analysis:**\n",
    "- Verifying the balance of response variables  in the final data set."
   ]
  },
  {
   "cell_type": "code",
   "execution_count": 41,
   "metadata": {
    "scrolled": true
   },
   "outputs": [
    {
     "data": {
      "image/png": "[encoded data removed]",
      "text/plain": [
       "<Figure size 432x288 with 1 Axes>"
      ]
     },
     "metadata": {},
     "output_type": "display_data"
    },
    {
     "data": {
      "text/plain": [
       "OrdinalEncoder()"
      ]
     },
     "execution_count": 41,
     "metadata": {},
     "output_type": "execute_result"
    }
   ],
   "source": [
    "df[\"patient_deceased\"].value_counts()\n",
    "sns.countplot(x=\"patient_deceased\", data=df)\n",
    "plt.show()\n",
    "from sklearn.preprocessing import OrdinalEncoder\n",
    "enc = OrdinalEncoder()\n",
    "enc.fit(df)"
   ]
  },
  {
   "cell_type": "markdown",
   "metadata": {},
   "source": [
    "**Model Building:**"
   ]
  },
  {
   "cell_type": "code",
   "execution_count": 42,
   "metadata": {},
   "outputs": [
    {
     "name": "stderr",
     "output_type": "stream",
     "text": [
      "/opt/anaconda3/lib/python3.8/site-packages/sklearn/linear_model/_logistic.py:762: ConvergenceWarning: lbfgs failed to converge (status=1):\n",
      "STOP: TOTAL NO. of ITERATIONS REACHED LIMIT.\n",
      "\n",
      "Increase the number of iterations (max_iter) or scale the data as shown in:\n",
      "    https://scikit-learn.org/stable/modules/preprocessing.html\n",
      "Please also refer to the documentation for alternative solver options:\n",
      "    https://scikit-learn.org/stable/modules/linear_model.html#logistic-regression\n",
      "  n_iter_i = _check_optimize_result(\n"
     ]
    },
    {
     "data": {
      "text/plain": [
       "LogisticRegression()"
      ]
     },
     "execution_count": 42,
     "metadata": {},
     "output_type": "execute_result"
    }
   ],
   "source": [
    "from sklearn.preprocessing import OrdinalEncoder\n",
    "enc = OrdinalEncoder()\n",
    "enc.fit(df)\n",
    "enc.categories_\n",
    "\n",
    "xdf = enc.transform(df) # transform using encoder\n",
    "\n",
    "df2 = pd.DataFrame(xdf, columns=df.columns) # numpy to dataframe\n",
    "\n",
    "X=df2[df.columns[~df.columns.isin(['patient_deceased'])]]\n",
    "y=df2[\"patient_deceased\"]\n",
    "X_train, X_test, y_train, y_test = train_test_split(X, y, test_size=0.3, random_state=0)\n",
    "logreg = LogisticRegression()\n",
    "logreg.fit(X_train, y_train)"
   ]
  },
  {
   "cell_type": "markdown",
   "metadata": {},
   "source": [
    "**Response variable analysis:**\n",
    "\n",
    "- Verifying the balance of response variables in the training data set and validation data set."
   ]
  },
  {
   "cell_type": "code",
   "execution_count": 31,
   "metadata": {},
   "outputs": [
    {
     "data": {
      "text/plain": [
       "patient_deceased\n",
       "0.0                 10927\n",
       "1.0                  8544\n",
       "dtype: int64"
      ]
     },
     "metadata": {},
     "output_type": "display_data"
    },
    {
     "data": {
      "image/png": "[encoded data removed]",
      "text/plain": [
       "<Figure size 432x288 with 1 Axes>"
      ]
     },
     "metadata": {},
     "output_type": "display_data"
    }
   ],
   "source": [
    "y_train_frame=y_train.to_frame()\n",
    "y_train_frame.head()\n",
    "display(y_train_frame.value_counts())\n",
    "sns.countplot(x=\"patient_deceased\",data=y_train_frame)\n",
    "plt.show()"
   ]
  },
  {
   "cell_type": "code",
   "execution_count": 32,
   "metadata": {},
   "outputs": [
    {
     "data": {
      "text/plain": [
       "patient_deceased\n",
       "0.0                 4688\n",
       "1.0                 3658\n",
       "dtype: int64"
      ]
     },
     "metadata": {},
     "output_type": "display_data"
    },
    {
     "data": {
      "image/png": "[encoded data removed]",
      "text/plain": [
       "<Figure size 432x288 with 1 Axes>"
      ]
     },
     "metadata": {},
     "output_type": "display_data"
    }
   ],
   "source": [
    "y_test_frame=y_test.to_frame()\n",
    "display(y_test_frame.value_counts())\n",
    "sns.countplot(x=\"patient_deceased\",data=y_test_frame)\n",
    "plt.show()"
   ]
  },
  {
   "cell_type": "markdown",
   "metadata": {},
   "source": [
    "**Model summary:**\n",
    "\n",
    "- Created statsmodel logit to report the model parameters."
   ]
  },
  {
   "cell_type": "code",
   "execution_count": 71,
   "metadata": {},
   "outputs": [
    {
     "name": "stdout",
     "output_type": "stream",
     "text": [
      "Optimization terminated successfully.\n",
      "         Current function value: 0.325424\n",
      "         Iterations 9\n",
      "                           Logit Regression Results                           \n",
      "==============================================================================\n",
      "Dep. Variable:       patient_deceased   No. Observations:                19471\n",
      "Model:                          Logit   Df Residuals:                    19367\n",
      "Method:                           MLE   Df Model:                          103\n",
      "Date:                Tue, 19 Apr 2022   Pseudo R-squ.:                  0.5254\n",
      "Time:                        19:30:33   Log-Likelihood:                -6336.3\n",
      "converged:                       True   LL-Null:                       -13350.\n",
      "Covariance Type:            nonrobust   LLR p-value:                     0.000\n",
      "==================================================================================================\n",
      "                                     coef    std err          z      P>|z|      [0.025      0.975]\n",
      "--------------------------------------------------------------------------------------------------\n",
      "year_born                         -0.0224      0.002    -11.027      0.000      -0.026      -0.018\n",
      "pa_race                            0.2358      0.011     21.009      0.000       0.214       0.258\n",
      "pa_gender                          0.2377      0.047      5.021      0.000       0.145       0.331\n",
      "pa_maritalstatus                  -0.1163      0.009    -13.147      0.000      -0.134      -0.099\n",
      "epi_AdmitType                     -0.5449      0.034    -15.990      0.000      -0.612      -0.478\n",
      "epi_weight                        -0.0114      0.003     -4.094      0.000      -0.017      -0.006\n",
      "ceo_HHRG                          -0.0340      0.004     -9.414      0.000      -0.041      -0.027\n",
      "DiagnosisCategory                 -0.1011      0.009    -11.108      0.000      -0.119      -0.083\n",
      "RoughAge                           0.0198      0.006      3.572      0.000       0.009       0.031\n",
      "M0100_ASSMT_REASON                 0.2843      0.079      3.617      0.000       0.130       0.438\n",
      "M0110_EPISODE_TIMING               0.0798      0.037      2.175      0.030       0.008       0.152\n",
      "M0140_ETHNIC_WHITE                 0.0034      0.094      0.037      0.971      -0.180       0.187\n",
      "M0906_DC_TRAN_DTH_DT               0.0127      0.000     58.765      0.000       0.012       0.013\n",
      "M1000_DC_IPPS_14_DA                0.2624      0.098      2.665      0.008       0.069       0.455\n",
      "M1000_DC_NONE_14_DA               -0.3124      0.115     -2.723      0.006      -0.537      -0.088\n",
      "M1028_ACTV_DIAG_DM                 0.2178      0.165      1.318      0.188      -0.106       0.542\n",
      "M1028_ACTV_DIAG_NOA                0.3027      0.179      1.692      0.091      -0.048       0.653\n",
      "M1028_ACTV_DIAG_PVD_PAD            0.2095      0.108      1.942      0.052      -0.002       0.421\n",
      "M1030_THH_ENT_NUTRITION            0.4379      0.254      1.725      0.085      -0.060       0.936\n",
      "M1030_THH_IV_INFUSION             -0.4992      0.233     -2.146      0.032      -0.955      -0.043\n",
      "M1030_THH_NONE_ABOVE              -0.3826      0.219     -1.745      0.081      -0.812       0.047\n",
      "M1030_THH_PAR_NUTRITION            0.7229      0.334      2.166      0.030       0.069       1.377\n",
      "M1033_HOSP_RISK_5PLUS_MDCTN       -0.2524      0.142     -1.777      0.076      -0.531       0.026\n",
      "M1033_HOSP_RISK_COMPLIANCE        -0.0183      0.075     -0.243      0.808      -0.166       0.129\n",
      "M1033_HOSP_RISK_CRNT_EXHSTN        0.1747      0.069      2.550      0.011       0.040       0.309\n",
      "M1033_HOSP_RISK_MLTPL_ED_VISIT     0.2399      0.088      2.737      0.006       0.068       0.412\n",
      "M1033_HOSP_RISK_MLTPL_HOSPZTN      0.0056      0.090      0.062      0.950      -0.170       0.182\n",
      "M1033_HOSP_RISK_MNTL_BHV_DCLN      0.0045      0.084      0.054      0.957      -0.160       0.169\n",
      "M1033_HOSP_RISK_NONE_ABOVE        -0.1758      0.182     -0.963      0.335      -0.533       0.182\n",
      "M1033_HOSP_RISK_OTHR_RISK          0.0186      0.066      0.280      0.779      -0.111       0.149\n",
      "M1033_HOSP_RISK_WEIGHT_LOSS        0.8008      0.095      8.472      0.000       0.616       0.986\n",
      "M1051_PVX_RCVD_AGNCY               0.0297      0.144      0.206      0.837      -0.253       0.312\n",
      "M1056_PVX_RSN_NOT_RCVD_AGNCY       0.0438      0.047      0.930      0.353      -0.049       0.136\n",
      "M1060_HEIGHT_A                     0.0043      0.005      0.864      0.387      -0.005       0.014\n",
      "M1200_VISION                      -0.0667      0.069     -0.961      0.337      -0.203       0.069\n",
      "M1242_PAIN_FREQ_ACTVTY_MVMT       -0.0980      0.023     -4.305      0.000      -0.143      -0.053\n",
      "M1306_UNHLD_STG2_PRSR_ULCR        -1.4406      0.384     -3.753      0.000      -2.193      -0.688\n",
      "M1307_OLDST_STG2_AT_DSCHRG         0.4653      0.366      1.272      0.203      -0.252       1.182\n",
      "M1307_OLDST_STG2_ONST_DT          -0.4563      0.319     -1.430      0.153      -1.082       0.169\n",
      "M1311_NBR_PRSULC_STG4_C1           0.1056      0.121      0.874      0.382      -0.131       0.342\n",
      "M1311_NBR_ULC_SOCROC_STG2_A2      -0.3778      0.298     -1.267      0.205      -0.962       0.207\n",
      "M1311_NBR_ULC_SOCROC_STG3_B2       0.1381      0.277      0.498      0.619      -0.406       0.682\n",
      "M1311_NBR_ULC_SOCROC_STG4_C2      -0.2587      0.443     -0.584      0.559      -1.127       0.609\n",
      "M1311_NSTG_CVRG_SOCROC_E2          0.1212      0.259      0.469      0.639      -0.386       0.628\n",
      "M1311_NSTG_DEEP_TSUE_F1           -0.0959      0.093     -1.032      0.302      -0.278       0.086\n",
      "M1311_NSTG_DEEP_TSUE_SOCROC_F2    -1.4903      0.932     -1.600      0.110      -3.316       0.336\n",
      "M1311_NSTG_DRSG_D1                -0.2378      0.139     -1.715      0.086      -0.510       0.034\n",
      "M1311_NSTG_DRSG_SOCROC_D2         -0.8012      0.606     -1.321      0.186      -1.990       0.387\n",
      "M1324_STG_PRBLM_ULCER             -0.0836      0.042     -1.994      0.046      -0.166      -0.001\n",
      "M1332_NBR_STAS_ULCR               -0.3293      0.082     -3.997      0.000      -0.491      -0.168\n",
      "M1334_STUS_PRBLM_STAS_ULCR         0.3362      0.138      2.444      0.015       0.067       0.606\n",
      "M1342_STUS_PRBLM_SRGCL_WND        -0.0407      0.023     -1.745      0.081      -0.086       0.005\n",
      "M1400_WHEN_DYSPNEIC                0.3649      0.030     12.250      0.000       0.307       0.423\n",
      "M1600_UTI                         -0.1900      0.074     -2.568      0.010      -0.335      -0.045\n",
      "M1610_UR_INCONT                   -0.0255      0.049     -0.523      0.601      -0.121       0.070\n",
      "M1620_BWL_INCONT                   0.0407      0.022      1.870      0.062      -0.002       0.083\n",
      "M1700_COG_FUNCTION                -0.0427      0.059     -0.722      0.470      -0.159       0.073\n",
      "M1710_WHEN_CONFUSED                0.0669      0.044      1.515      0.130      -0.020       0.153\n",
      "M1730_PHQ2_DPRSN                  -0.0164      0.104     -0.158      0.874      -0.220       0.187\n",
      "M1730_PHQ2_LACK_INTRST             0.0221      0.103      0.214      0.830      -0.180       0.225\n",
      "M1730_STDZ_DPRSN_SCRNG            -0.1571      0.107     -1.466      0.143      -0.367       0.053\n",
      "M1740_BD_DELUSIONS                -0.1081      0.259     -0.417      0.677      -0.616       0.400\n",
      "M1740_BD_IMP_DECISN               -0.1435      0.136     -1.056      0.291      -0.410       0.123\n",
      "M1740_BD_MEM_DEFICIT               0.1058      0.125      0.843      0.399      -0.140       0.352\n",
      "M1740_BD_NONE                      0.0915      0.154      0.593      0.553      -0.211       0.394\n",
      "M1740_BD_PHYSICAL                  0.4846      0.496      0.978      0.328      -0.487       1.456\n",
      "M1740_BD_SOC_INAPPRO              -0.0615      0.473     -0.130      0.897      -0.989       0.865\n",
      "M1740_BD_VERBAL                    0.1668      0.267      0.625      0.532      -0.356       0.689\n",
      "M1745_BEH_PROB_FREQ                0.0234      0.028      0.820      0.412      -0.032       0.079\n",
      "M1800_CRNT_GROOMING                0.0165      0.079      0.209      0.835      -0.138       0.171\n",
      "M1810_CRNT_DRESS_UPPER             0.1704      0.089      1.925      0.054      -0.003       0.344\n",
      "M1820_CRNT_DRESS_LOWER            -0.0032      0.073     -0.044      0.965      -0.146       0.139\n",
      "M1830_CRNT_BATHG                   0.0221      0.030      0.736      0.462      -0.037       0.081\n",
      "M1840_CRNT_TOILTG                  0.0824      0.047      1.749      0.080      -0.010       0.175\n",
      "M1845_CRNT_TOILTG_HYGN            -0.0703      0.062     -1.125      0.261      -0.193       0.052\n",
      "M1850_CRNT_TRNSFRNG                0.1446      0.056      2.598      0.009       0.036       0.254\n",
      "M1860_CRNT_AMBLTN                 -0.0189      0.043     -0.443      0.658      -0.103       0.065\n",
      "M1870_CRNT_FEEDING                 0.0863      0.053      1.634      0.102      -0.017       0.190\n",
      "M1910_MLT_FCTR_FALL_RISK_ASMT     -0.2384      0.147     -1.625      0.104      -0.526       0.049\n",
      "M2001_DRUG_RGMN_RVW               -0.4024      0.202     -1.997      0.046      -0.797      -0.007\n",
      "M2003_MDCTN_FLWP                  -0.3441      0.164     -2.105      0.035      -0.665      -0.024\n",
      "M2005_MDCTN_INTRVTN                0.0411      0.057      0.716      0.474      -0.071       0.154\n",
      "M2010_HIGH_RISK_DRUG_EDCTN         0.2284      0.087      2.612      0.009       0.057       0.400\n",
      "M2016_DRUG_EDCTN_INTRVTN           0.3898      0.218      1.791      0.073      -0.037       0.816\n",
      "M2020_CRNT_MGMT_ORAL_MDCTN         0.0251      0.044      0.574      0.566      -0.061       0.111\n",
      "M2030_CRNT_MGMT_INJCTN_MDCTN      -0.0389      0.045     -0.867      0.386      -0.127       0.049\n",
      "M2102_CARE_TYPE_SRC_ADL           -0.1670      0.107     -1.559      0.119      -0.377       0.043\n",
      "M2102_CARE_TYPE_SRC_MDCTN          0.1961      0.111      1.762      0.078      -0.022       0.414\n",
      "M2102_CARE_TYPE_SRC_PRCDR         -0.0864      0.097     -0.893      0.372      -0.276       0.103\n",
      "M2102_CARE_TYPE_SRC_SPRVSN         0.0511      0.039      1.315      0.188      -0.025       0.127\n",
      "M2200_THER_NEED_NA                 0.7610      0.292      2.607      0.009       0.189       1.333\n",
      "M2301_EMER_USE_AFTR_LAST_ASMT      0.2927      0.064      4.549      0.000       0.167       0.419\n",
      "M2310_ECR_HYPOGLYC                 0.0870      0.438      0.199      0.843      -0.771       0.945\n",
      "M2310_ECR_MEDICATION              -0.2231      0.524     -0.425      0.671      -1.251       0.805\n",
      "M2310_ECR_OTHER                    0.1218      0.265      0.460      0.646      -0.397       0.641\n",
      "M2310_ECR_UNKNOWN                  0.0802      0.317      0.253      0.800      -0.542       0.702\n",
      "M2401_INTRVTN_SMRY_DBTS_FT         0.0336      0.061      0.549      0.583      -0.086       0.153\n",
      "M2401_INTRVTN_SMRY_DPRSN           0.1485      0.060      2.456      0.014       0.030       0.267\n",
      "M2401_INTRVTN_SMRY_FALL_PRVNT      0.5104      0.176      2.895      0.004       0.165       0.856\n",
      "M2401_INTRVTN_SMRY_PAIN_MNTR       0.0335      0.113      0.297      0.767      -0.188       0.255\n",
      "M2401_INTRVTN_SMRY_PRSULC_PRVN    -0.0677      0.066     -1.031      0.303      -0.196       0.061\n",
      "M2401_INTRVTN_SMRY_PRSULC_WET     -0.1528      0.085     -1.805      0.071      -0.319       0.013\n",
      "M2410_INPAT_FACILITY               0.2530      0.121      2.098      0.036       0.017       0.489\n",
      "M2420_DSCHRG_DISP                  0.5654      0.073      7.719      0.000       0.422       0.709\n",
      "==================================================================================================\n"
     ]
    }
   ],
   "source": [
    "import statsmodels.api as sm\n",
    "logit_model=sm.Logit(y_train,X_train)\n",
    "result=logit_model.fit()\n",
    "print(result.summary())"
   ]
  },
  {
   "cell_type": "markdown",
   "metadata": {},
   "source": [
    "**Prediction:**"
   ]
  },
  {
   "cell_type": "code",
   "execution_count": 33,
   "metadata": {},
   "outputs": [
    {
     "name": "stdout",
     "output_type": "stream",
     "text": [
      "Accuracy of logistic regression classifier on test set: 0.85\n"
     ]
    }
   ],
   "source": [
    "y_pred = logreg.predict(X_test)\n",
    "print('Accuracy of logistic regression classifier on test set: {:.2f}'.format(logreg.score(X_test, y_test)))"
   ]
  },
  {
   "cell_type": "code",
   "execution_count": 36,
   "metadata": {},
   "outputs": [
    {
     "name": "stdout",
     "output_type": "stream",
     "text": [
      "[[4221  467]\n",
      " [ 777 2881]]\n"
     ]
    },
    {
     "data": {
      "text/plain": [
       "<sklearn.metrics._plot.confusion_matrix.ConfusionMatrixDisplay at 0x7fb587555e80>"
      ]
     },
     "execution_count": 36,
     "metadata": {},
     "output_type": "execute_result"
    },
    {
     "data": {
      "image/png": "[encoded data removed]",
      "text/plain": [
       "<Figure size 432x288 with 2 Axes>"
      ]
     },
     "metadata": {},
     "output_type": "display_data"
    }
   ],
   "source": [
    "from sklearn.metrics import plot_confusion_matrix\n",
    "from sklearn.metrics import confusion_matrix\n",
    "\n",
    "confusion_matrix = confusion_matrix(y_test, y_pred)\n",
    "print(confusion_matrix)\n",
    "plot_confusion_matrix(logreg,X_test,y_test)"
   ]
  },
  {
   "cell_type": "code",
   "execution_count": 62,
   "metadata": {},
   "outputs": [
    {
     "name": "stdout",
     "output_type": "stream",
     "text": [
      "              precision    recall  f1-score   support\n",
      "\n",
      "         0.0       0.84      0.90      0.87      4688\n",
      "         1.0       0.86      0.79      0.82      3658\n",
      "\n",
      "    accuracy                           0.85      8346\n",
      "   macro avg       0.85      0.84      0.85      8346\n",
      "weighted avg       0.85      0.85      0.85      8346\n",
      "\n"
     ]
    }
   ],
   "source": [
    "from sklearn.metrics import classification_report\n",
    "print(classification_report(y_test, y_pred))"
   ]
  },
  {
   "cell_type": "code",
   "execution_count": 63,
   "metadata": {},
   "outputs": [
    {
     "data": {
      "image/png": "[encoded data removed]",
      "text/plain": [
       "<Figure size 432x288 with 1 Axes>"
      ]
     },
     "metadata": {},
     "output_type": "display_data"
    }
   ],
   "source": [
    "from sklearn.metrics import roc_auc_score\n",
    "from sklearn.metrics import roc_curve\n",
    "logit_roc_auc = roc_auc_score(y_test, logreg.predict(X_test))\n",
    "fpr, tpr, thresholds = roc_curve(y_test, logreg.predict_proba(X_test)[:,1])\n",
    "plt.figure()\n",
    "plt.plot(fpr, tpr, label='Logistic Regression (area = %0.2f)' % logit_roc_auc)\n",
    "plt.plot([0, 1], [0, 1],'r--')\n",
    "plt.xlim([0.0, 1.0])\n",
    "plt.ylim([0.0, 1.05])\n",
    "plt.xlabel('False Positive Rate')\n",
    "plt.ylabel('True Positive Rate')\n",
    "plt.title('Receiver operating characteristic')\n",
    "plt.legend(loc=\"lower right\")\n",
    "plt.savefig('Log_ROC')\n",
    "plt.show()"
   ]
  },
  {
   "cell_type": "code",
   "execution_count": 72,
   "metadata": {},
   "outputs": [
    {
     "data": {
      "text/plain": [
       "1.3862943611198906"
      ]
     },
     "execution_count": 72,
     "metadata": {},
     "output_type": "execute_result"
    }
   ],
   "source": [
    "from sklearn.metrics import log_loss\n",
    "2*metrics.log_loss(y, logreg.predict_log_proba(X))"
   ]
  }
 ],
 "metadata": {
  "kernelspec": {
   "display_name": "Python 3",
   "language": "python",
   "name": "python3"
  },
  "language_info": {
   "codemirror_mode": {
    "name": "ipython",
    "version": 3
   },
   "file_extension": ".py",
   "mimetype": "text/x-python",
   "name": "python",
   "nbconvert_exporter": "python",
   "pygments_lexer": "ipython3",
   "version": "3.8.5"
  }
 },
 "nbformat": 4,
 "nbformat_minor": 4
}
