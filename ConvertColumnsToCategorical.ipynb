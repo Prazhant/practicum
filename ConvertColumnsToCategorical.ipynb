{
 "cells": [
  {
   "cell_type": "code",
   "execution_count": 1,
   "metadata": {},
   "outputs": [],
   "source": [
    "import pandas as pd\n",
    "from pathlib import Path  \n",
    "import sys\n",
    "import sqlite3\n",
    "\n",
    "CUT_OF_UNIQUE_VALUES=40"
   ]
  },
  {
   "cell_type": "code",
   "execution_count": 36,
   "metadata": {},
   "outputs": [
    {
     "name": "stdout",
     "output_type": "stream",
     "text": [
      "NO         427677\n",
      "YES        129428\n",
      "0 - NO      91160\n",
      "1 - YES     78351\n",
      "1           61625\n",
      "            ...  \n",
      "39523           1\n",
      "167608          1\n",
      "167592          1\n",
      "132473          1\n",
      "114483          1\n",
      "Length: 58152, dtype: int64\n"
     ]
    }
   ],
   "source": [
    "data_filtered_cedd=pd.read_csv(\"data_filtered_with_cedd.csv\")\n",
    "df_counts  = pd.DataFrame(columns = ['col', 'count'])\n",
    "# for col in data_filtered_cedd:\n",
    "#     no_of_unique_values=data_filtered_cedd[col].nunique()\n",
    "#     df_counts.loc[len(df_counts)]=[col,no_of_unique_values]\n",
    "# #     if( not col.startswith( 'Unnamed' ) && no_of_unique_values<20):\n",
    "# #         print(\"%s--->%s\"%(col,))\n",
    "# df_counts = df_counts.sort_values(by=['count'], ascending=False)\n",
    "# display(df_counts.head(30))\n",
    "\n",
    "\n",
    "\n",
    "for col in data_filtered_cedd:\n",
    "    no_of_unique_values=data_filtered_cedd[col].nunique()\n",
    "    if( not col.startswith( 'Unnamed' ) and no_of_unique_values<40):\n",
    "#         print(\"%s--->%s\"%(col,no_of_unique_values))\n",
    "        data_filtered_cedd[col]=pd.Categorical(data_filtered_cedd[col])\n",
    "        \n",
    "        \n",
    "data_filtered_cedd.select_dtypes(include=['category'])\n",
    "\n",
    "    \n",
    "\n"
   ]
  }
 ],
 "metadata": {
  "kernelspec": {
   "display_name": "Python 3",
   "language": "python",
   "name": "python3"
  },
  "language_info": {
   "codemirror_mode": {
    "name": "ipython",
    "version": 3
   },
   "file_extension": ".py",
   "mimetype": "text/x-python",
   "name": "python",
   "nbconvert_exporter": "python",
   "pygments_lexer": "ipython3",
   "version": "3.8.5"
  }
 },
 "nbformat": 4,
 "nbformat_minor": 4
}
